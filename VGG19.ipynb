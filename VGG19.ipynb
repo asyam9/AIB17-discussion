{
  "nbformat": 4,
  "nbformat_minor": 0,
  "metadata": {
    "colab": {
      "provenance": [],
      "mount_file_id": "1yP9ZkBIGf1s0S2u9M24vxEvNPHH7Ye4h",
      "authorship_tag": "ABX9TyN37cIy8naH0gLOm3/Q/ezW",
      "include_colab_link": true
    },
    "kernelspec": {
      "name": "python3",
      "display_name": "Python 3"
    },
    "language_info": {
      "name": "python"
    },
    "accelerator": "GPU",
    "gpuClass": "standard"
  },
  "cells": [
    {
      "cell_type": "markdown",
      "metadata": {
        "id": "view-in-github",
        "colab_type": "text"
      },
      "source": [
        "<a href=\"https://colab.research.google.com/github/asyam9/AIB17-discussion/blob/main/VGG19.ipynb\" target=\"_parent\"><img src=\"https://colab.research.google.com/assets/colab-badge.svg\" alt=\"Open In Colab\"/></a>"
      ]
    },
    {
      "cell_type": "code",
      "source": [
        "!git clone https://github.com/ultralytics/ultralytics.git"
      ],
      "metadata": {
        "colab": {
          "base_uri": "https://localhost:8080/"
        },
        "id": "cnPKNiNCDEUi",
        "outputId": "d6c9db4b-618a-4ffc-9ca5-6441a82ef128"
      },
      "execution_count": 1,
      "outputs": [
        {
          "output_type": "stream",
          "name": "stdout",
          "text": [
            "Cloning into 'ultralytics'...\n",
            "remote: Enumerating objects: 6103, done.\u001b[K\n",
            "remote: Counting objects: 100% (350/350), done.\u001b[K\n",
            "remote: Compressing objects: 100% (243/243), done.\u001b[K\n",
            "remote: Total 6103 (delta 194), reused 213 (delta 107), pack-reused 5753\u001b[K\n",
            "Receiving objects: 100% (6103/6103), 4.76 MiB | 15.83 MiB/s, done.\n",
            "Resolving deltas: 100% (4095/4095), done.\n"
          ]
        }
      ]
    },
    {
      "cell_type": "code",
      "source": [
        "#MyDrive 내로 pwd 경로 변경\n",
        "%cd "
      ],
      "metadata": {
        "id": "ITlyg-ydDsZ5"
      },
      "execution_count": null,
      "outputs": []
    },
    {
      "cell_type": "code",
      "source": [
        "pip install jupyter"
      ],
      "metadata": {
        "id": "VlFCU0SMU3_9"
      },
      "execution_count": null,
      "outputs": []
    },
    {
      "cell_type": "code",
      "source": [
        "pip install ultralytics"
      ],
      "metadata": {
        "id": "vLbSFK8CDFv_"
      },
      "execution_count": null,
      "outputs": []
    },
    {
      "cell_type": "code",
      "execution_count": 1,
      "metadata": {
        "id": "2qXtciRaCHaM"
      },
      "outputs": [],
      "source": [
        "from keras.applications.vgg19 import VGG19\n",
        "from tensorflow.keras.layers import Dense, GlobalAveragePooling2D\n",
        "from tensorflow.keras.models import Sequential\n",
        "from tensorflow.keras.datasets import cifar10\n",
        "from sklearn.model_selection import train_test_split\n",
        "import os\n",
        "import pandas as pd\n",
        "import tensorflow as tf\n",
        "from random import shuffle\n",
        "import random\n",
        "import torch\n",
        "from torch.utils.data import DataLoader\n",
        "from torchvision.datasets import ImageFolder\n",
        "from torchvision.transforms import Compose, Resize, ToTensor, Normalize\n",
        "from tqdm import tqdm\n",
        "import numpy as np\n",
        "from tensorflow.keras.callbacks import ModelCheckpoint\n",
        "from tensorflow.keras.models import load_model\n",
        "from tensorflow.keras.callbacks import EarlyStopping, ModelCheckpoint\n",
        "from tensorflow.keras.optimizers import Adam"
      ]
    },
    {
      "cell_type": "code",
      "source": [
        "root = '/content/drive/MyDrive/data/mini_chest_xray/'\n",
        "testRoot = root + 'test/'\n",
        "trainRoot = root + 'train/'\n",
        "nomal = 'NORMAL/'\n",
        "pneumonia = 'PNEUMONIA/'\n",
        "\n",
        "testNormal_Root = testRoot + nomal\n",
        "testNormal_Names = os.listdir(testRoot + nomal)\n",
        "\n",
        "testPneumonia_Root = testRoot + pneumonia\n",
        "testPneumonia_Names = os.listdir(testRoot + pneumonia)\n",
        "\n",
        "trainNormal_Root = trainRoot + nomal\n",
        "trainNormal_Names = os.listdir(trainRoot + nomal)\n",
        "\n",
        "trainPneumonia_Root = trainRoot + pneumonia\n",
        "trainPneumonia_Names = os.listdir(trainRoot + pneumonia)\n",
        "\n",
        "\n",
        "np.random.seed(42)\n",
        "tf.random.set_seed(42)"
      ],
      "metadata": {
        "id": "E5H3NJjjCzeO"
      },
      "execution_count": 2,
      "outputs": []
    },
    {
      "cell_type": "code",
      "source": [
        "def MakeArrayFromImage (testImage, size_x, size_y) :\n",
        "  item = tf.keras.preprocessing.image.load_img(testImage, target_size=(size_x, size_y))\n",
        "  item = tf.keras.preprocessing.image.img_to_array(item)\n",
        "  item = tf.keras.applications.vgg19.preprocess_input(item)\n",
        "  return item\n",
        "\n",
        "def forMakeArray (imgRoot,imgNames, size_x, size_y) :\n",
        "  arrayList = []\n",
        "  for imageName in imgNames :\n",
        "    item = MakeArrayFromImage(imgRoot + imageName, size_x, size_y)\n",
        "    arrayList.append(item)\n",
        "  return arrayList"
      ],
      "metadata": {
        "id": "2jVpRscAD_7K"
      },
      "execution_count": 3,
      "outputs": []
    },
    {
      "cell_type": "code",
      "source": [
        "size_x, size_y = 112, 112\n",
        "\n",
        "testNormal_ImageList = forMakeArray(testNormal_Root, testNormal_Names, size_x, size_y)\n",
        "testPneumonia_ImageList = forMakeArray(testPneumonia_Root, testPneumonia_Names, size_x, size_y)\n",
        "trainNormal_ImageList = forMakeArray(trainNormal_Root, trainNormal_Names, size_x, size_y)\n",
        "trainPneumonia_ImageList = forMakeArray(trainPneumonia_Root, trainPneumonia_Names, size_x, size_y)"
      ],
      "metadata": {
        "id": "CV69Xz9EEBMr"
      },
      "execution_count": 4,
      "outputs": []
    },
    {
      "cell_type": "code",
      "source": [
        "len_trianN = len(trainNormal_ImageList)\n",
        "len_trianP = len(trainPneumonia_ImageList)\n",
        "len_testN = len(testNormal_ImageList)\n",
        "len_testP = len(testPneumonia_ImageList)\n",
        "\n",
        "X_train = np.array(trainNormal_ImageList + trainPneumonia_ImageList)\n",
        "y_train = np.concatenate((np.zeros((len_trianN)), np.ones((len_trianP))),axis = 0) \n",
        "\n",
        "X_test = np.array(testNormal_ImageList + testPneumonia_ImageList)\n",
        "y_test = np.concatenate((np.zeros((len_testN)), np.ones((len_testP))),axis = 0) \n",
        "\n",
        "del trainNormal_ImageList, trainPneumonia_ImageList, testNormal_ImageList, testPneumonia_ImageList"
      ],
      "metadata": {
        "id": "6LvrFCvZECcF"
      },
      "execution_count": 5,
      "outputs": []
    },
    {
      "cell_type": "code",
      "source": [
        "# X_train = np.array(X_train).astype('float32') / 255.\n",
        "# X_test = np.array(X_test).astype('float32') / 255.\n",
        "\n",
        "X_train, X_val, y_train, y_val = train_test_split(X_train, y_train, test_size=.2)\n",
        "\n",
        "pretrained_model = VGG19(weights='imagenet', include_top=False)"
      ],
      "metadata": {
        "id": "BXvnwysJEDvf",
        "colab": {
          "base_uri": "https://localhost:8080/"
        },
        "outputId": "2e5f34ff-2108-452e-aebe-ef014c6be1f1"
      },
      "execution_count": 6,
      "outputs": [
        {
          "output_type": "stream",
          "name": "stdout",
          "text": [
            "Downloading data from https://storage.googleapis.com/tensorflow/keras-applications/vgg19/vgg19_weights_tf_dim_ordering_tf_kernels_notop.h5\n",
            "80134624/80134624 [==============================] - 3s 0us/step\n"
          ]
        }
      ]
    },
    {
      "cell_type": "code",
      "source": [
        "import tensorflow as tf\n",
        "from tensorflow.keras.preprocessing.image import ImageDataGenerator\n",
        "from tensorflow.keras import layers, models \n",
        "from tensorflow.keras.applications import VGG16\n",
        "\n",
        "base = VGG19(weights= 'imagenet', include_top=False, input_shape = (112,112,3))\n",
        "base.trainable = False\n",
        "\n",
        "chpt = '/content/drive/MyDrive/data/checkPoint/'\n",
        "modelName = 'vgg19_model.h5'\n",
        "\n",
        "early_stopping = EarlyStopping(monitor='val_accuracy', patience=20)\n",
        "checkpoint = ModelCheckpoint(chpt + modelName, save_best_only=True, save_weights_only=False, monitor='val_accuracy', verbose=1)\n",
        "\n",
        "\n",
        "model = models.Sequential()\n",
        "model.add(base)\n",
        "model.add(layers.BatchNormalization())\n",
        "model.add(layers.Flatten())\n",
        "model.add(layers.Dense(64, activation = 'relu'))\n",
        "model.add(layers.Dropout(0.5))\n",
        "model.add(layers.Dense(64, activation = 'relu'))\n",
        "model.add(layers.Dropout(0.5))\n",
        "model.add(layers.Dense(64, activation = 'relu'))\n",
        "model.add(layers.Dropout(0.5))\n",
        "model.add(layers.Dense(64, activation = 'relu'))\n",
        "model.add(layers.Dropout(0.5))\n",
        "model.add(layers.Dense(64, activation = 'relu'))\n",
        "model.add(layers.Dropout(0.5))\n",
        "model.add(layers.Dense(64, activation = 'relu'))\n",
        "model.add(layers.Dropout(0.5))\n",
        "model.add(layers.Dense(1, activation = 'sigmoid'))\n",
        "\n",
        "sgd = tf.keras.optimizers.SGD(learning_rate= 0.01, momentum = 0.9)\n",
        "model.compile(optimizer = sgd, loss = 'binary_crossentropy',metrics = ['accuracy'])\n",
        "epochs = 100\n",
        "\n",
        "hist = model.fit(X_train, y_train, batch_size = 128, epochs= epochs , validation_data =(X_val,y_val), callbacks=[early_stopping, checkpoint])"
      ],
      "metadata": {
        "colab": {
          "base_uri": "https://localhost:8080/"
        },
        "id": "-7cPq1dpEFm7",
        "outputId": "c6ce32ec-60ae-4148-fdcf-639ce3f8df10"
      },
      "execution_count": 14,
      "outputs": [
        {
          "output_type": "stream",
          "name": "stdout",
          "text": [
            "Epoch 1/100\n",
            "33/33 [==============================] - ETA: 0s - loss: 0.5815 - accuracy: 0.6867\n",
            "Epoch 1: val_accuracy improved from -inf to 0.72302, saving model to /content/drive/MyDrive/data/checkPoint/vgg19_model.h5\n",
            "33/33 [==============================] - 10s 231ms/step - loss: 0.5815 - accuracy: 0.6867 - val_loss: 0.3729 - val_accuracy: 0.7230\n",
            "Epoch 2/100\n",
            "33/33 [==============================] - ETA: 0s - loss: 0.2920 - accuracy: 0.8017\n",
            "Epoch 2: val_accuracy improved from 0.72302 to 0.93792, saving model to /content/drive/MyDrive/data/checkPoint/vgg19_model.h5\n",
            "33/33 [==============================] - 7s 219ms/step - loss: 0.2920 - accuracy: 0.8017 - val_loss: 0.2847 - val_accuracy: 0.9379\n",
            "Epoch 3/100\n",
            "33/33 [==============================] - ETA: 0s - loss: 0.2303 - accuracy: 0.9470\n",
            "Epoch 3: val_accuracy improved from 0.93792 to 0.94365, saving model to /content/drive/MyDrive/data/checkPoint/vgg19_model.h5\n",
            "33/33 [==============================] - 8s 260ms/step - loss: 0.2303 - accuracy: 0.9470 - val_loss: 0.2372 - val_accuracy: 0.9436\n",
            "Epoch 4/100\n",
            "33/33 [==============================] - ETA: 0s - loss: 0.1936 - accuracy: 0.9556\n",
            "Epoch 4: val_accuracy improved from 0.94365 to 0.94651, saving model to /content/drive/MyDrive/data/checkPoint/vgg19_model.h5\n",
            "33/33 [==============================] - 7s 226ms/step - loss: 0.1936 - accuracy: 0.9556 - val_loss: 0.2002 - val_accuracy: 0.9465\n",
            "Epoch 5/100\n",
            "33/33 [==============================] - ETA: 0s - loss: 0.1795 - accuracy: 0.9594\n",
            "Epoch 5: val_accuracy did not improve from 0.94651\n",
            "33/33 [==============================] - 8s 253ms/step - loss: 0.1795 - accuracy: 0.9594 - val_loss: 0.1988 - val_accuracy: 0.9446\n",
            "Epoch 6/100\n",
            "33/33 [==============================] - ETA: 0s - loss: 0.1496 - accuracy: 0.9646\n",
            "Epoch 6: val_accuracy improved from 0.94651 to 0.95415, saving model to /content/drive/MyDrive/data/checkPoint/vgg19_model.h5\n",
            "33/33 [==============================] - 10s 310ms/step - loss: 0.1496 - accuracy: 0.9646 - val_loss: 0.1664 - val_accuracy: 0.9542\n",
            "Epoch 7/100\n",
            "33/33 [==============================] - ETA: 0s - loss: 0.1389 - accuracy: 0.9658\n",
            "Epoch 7: val_accuracy improved from 0.95415 to 0.95702, saving model to /content/drive/MyDrive/data/checkPoint/vgg19_model.h5\n",
            "33/33 [==============================] - 9s 260ms/step - loss: 0.1389 - accuracy: 0.9658 - val_loss: 0.1613 - val_accuracy: 0.9570\n",
            "Epoch 8/100\n",
            "33/33 [==============================] - ETA: 0s - loss: 0.1304 - accuracy: 0.9670\n",
            "Epoch 8: val_accuracy did not improve from 0.95702\n",
            "33/33 [==============================] - 7s 211ms/step - loss: 0.1304 - accuracy: 0.9670 - val_loss: 0.1497 - val_accuracy: 0.9513\n",
            "Epoch 9/100\n",
            "33/33 [==============================] - ETA: 0s - loss: 0.1180 - accuracy: 0.9711\n",
            "Epoch 9: val_accuracy improved from 0.95702 to 0.96180, saving model to /content/drive/MyDrive/data/checkPoint/vgg19_model.h5\n",
            "33/33 [==============================] - 8s 252ms/step - loss: 0.1180 - accuracy: 0.9711 - val_loss: 0.1376 - val_accuracy: 0.9618\n",
            "Epoch 10/100\n",
            "33/33 [==============================] - ETA: 0s - loss: 0.1083 - accuracy: 0.9728\n",
            "Epoch 10: val_accuracy did not improve from 0.96180\n",
            "33/33 [==============================] - 8s 244ms/step - loss: 0.1083 - accuracy: 0.9728 - val_loss: 0.1370 - val_accuracy: 0.9561\n",
            "Epoch 11/100\n",
            "33/33 [==============================] - ETA: 0s - loss: 0.1103 - accuracy: 0.9701\n",
            "Epoch 11: val_accuracy did not improve from 0.96180\n",
            "33/33 [==============================] - 7s 212ms/step - loss: 0.1103 - accuracy: 0.9701 - val_loss: 0.1341 - val_accuracy: 0.9561\n",
            "Epoch 12/100\n",
            "33/33 [==============================] - ETA: 0s - loss: 0.1063 - accuracy: 0.9704\n",
            "Epoch 12: val_accuracy improved from 0.96180 to 0.96371, saving model to /content/drive/MyDrive/data/checkPoint/vgg19_model.h5\n",
            "33/33 [==============================] - 10s 311ms/step - loss: 0.1063 - accuracy: 0.9704 - val_loss: 0.1291 - val_accuracy: 0.9637\n",
            "Epoch 13/100\n",
            "33/33 [==============================] - ETA: 0s - loss: 0.0986 - accuracy: 0.9730\n",
            "Epoch 13: val_accuracy did not improve from 0.96371\n",
            "33/33 [==============================] - 7s 210ms/step - loss: 0.0986 - accuracy: 0.9730 - val_loss: 0.1393 - val_accuracy: 0.9513\n",
            "Epoch 14/100\n",
            "33/33 [==============================] - ETA: 0s - loss: 0.0961 - accuracy: 0.9723\n",
            "Epoch 14: val_accuracy did not improve from 0.96371\n",
            "33/33 [==============================] - 8s 252ms/step - loss: 0.0961 - accuracy: 0.9723 - val_loss: 0.1210 - val_accuracy: 0.9599\n",
            "Epoch 15/100\n",
            "33/33 [==============================] - ETA: 0s - loss: 0.0901 - accuracy: 0.9759\n",
            "Epoch 15: val_accuracy did not improve from 0.96371\n",
            "33/33 [==============================] - 8s 250ms/step - loss: 0.0901 - accuracy: 0.9759 - val_loss: 0.1267 - val_accuracy: 0.9513\n",
            "Epoch 16/100\n",
            "33/33 [==============================] - ETA: 0s - loss: 0.0820 - accuracy: 0.9768\n",
            "Epoch 16: val_accuracy did not improve from 0.96371\n",
            "33/33 [==============================] - 7s 215ms/step - loss: 0.0820 - accuracy: 0.9768 - val_loss: 0.1238 - val_accuracy: 0.9570\n",
            "Epoch 17/100\n",
            "33/33 [==============================] - ETA: 0s - loss: 0.0760 - accuracy: 0.9804\n",
            "Epoch 17: val_accuracy did not improve from 0.96371\n",
            "33/33 [==============================] - 8s 250ms/step - loss: 0.0760 - accuracy: 0.9804 - val_loss: 0.1186 - val_accuracy: 0.9618\n",
            "Epoch 18/100\n",
            "33/33 [==============================] - ETA: 0s - loss: 0.0733 - accuracy: 0.9811\n",
            "Epoch 18: val_accuracy did not improve from 0.96371\n",
            "33/33 [==============================] - 7s 214ms/step - loss: 0.0733 - accuracy: 0.9811 - val_loss: 0.1173 - val_accuracy: 0.9628\n",
            "Epoch 19/100\n",
            "33/33 [==============================] - ETA: 0s - loss: 0.0797 - accuracy: 0.9783\n",
            "Epoch 19: val_accuracy did not improve from 0.96371\n",
            "33/33 [==============================] - 8s 251ms/step - loss: 0.0797 - accuracy: 0.9783 - val_loss: 0.1140 - val_accuracy: 0.9618\n",
            "Epoch 20/100\n",
            "33/33 [==============================] - ETA: 0s - loss: 0.0734 - accuracy: 0.9790\n",
            "Epoch 20: val_accuracy did not improve from 0.96371\n",
            "33/33 [==============================] - 8s 250ms/step - loss: 0.0734 - accuracy: 0.9790 - val_loss: 0.1196 - val_accuracy: 0.9561\n",
            "Epoch 21/100\n",
            "33/33 [==============================] - ETA: 0s - loss: 0.0731 - accuracy: 0.9795\n",
            "Epoch 21: val_accuracy did not improve from 0.96371\n",
            "33/33 [==============================] - 8s 248ms/step - loss: 0.0731 - accuracy: 0.9795 - val_loss: 0.1130 - val_accuracy: 0.9589\n",
            "Epoch 22/100\n",
            "33/33 [==============================] - ETA: 0s - loss: 0.0706 - accuracy: 0.9823\n",
            "Epoch 22: val_accuracy did not improve from 0.96371\n",
            "33/33 [==============================] - 8s 246ms/step - loss: 0.0706 - accuracy: 0.9823 - val_loss: 0.1221 - val_accuracy: 0.9570\n",
            "Epoch 23/100\n",
            "33/33 [==============================] - ETA: 0s - loss: 0.0691 - accuracy: 0.9792\n",
            "Epoch 23: val_accuracy improved from 0.96371 to 0.96657, saving model to /content/drive/MyDrive/data/checkPoint/vgg19_model.h5\n",
            "33/33 [==============================] - 10s 294ms/step - loss: 0.0691 - accuracy: 0.9792 - val_loss: 0.1094 - val_accuracy: 0.9666\n",
            "Epoch 24/100\n",
            "33/33 [==============================] - ETA: 0s - loss: 0.0657 - accuracy: 0.9818\n",
            "Epoch 24: val_accuracy improved from 0.96657 to 0.97326, saving model to /content/drive/MyDrive/data/checkPoint/vgg19_model.h5\n",
            "33/33 [==============================] - 9s 260ms/step - loss: 0.0657 - accuracy: 0.9818 - val_loss: 0.1051 - val_accuracy: 0.9733\n",
            "Epoch 25/100\n",
            "33/33 [==============================] - ETA: 0s - loss: 0.0645 - accuracy: 0.9821\n",
            "Epoch 25: val_accuracy did not improve from 0.97326\n",
            "33/33 [==============================] - 7s 211ms/step - loss: 0.0645 - accuracy: 0.9821 - val_loss: 0.1090 - val_accuracy: 0.9685\n",
            "Epoch 26/100\n",
            "33/33 [==============================] - ETA: 0s - loss: 0.0655 - accuracy: 0.9830\n",
            "Epoch 26: val_accuracy did not improve from 0.97326\n",
            "33/33 [==============================] - 8s 253ms/step - loss: 0.0655 - accuracy: 0.9830 - val_loss: 0.1201 - val_accuracy: 0.9580\n",
            "Epoch 27/100\n",
            "33/33 [==============================] - ETA: 0s - loss: 0.0632 - accuracy: 0.9823\n",
            "Epoch 27: val_accuracy did not improve from 0.97326\n",
            "33/33 [==============================] - 7s 213ms/step - loss: 0.0632 - accuracy: 0.9823 - val_loss: 0.1143 - val_accuracy: 0.9685\n",
            "Epoch 28/100\n",
            "33/33 [==============================] - ETA: 0s - loss: 0.0608 - accuracy: 0.9838\n",
            "Epoch 28: val_accuracy did not improve from 0.97326\n",
            "33/33 [==============================] - 7s 215ms/step - loss: 0.0608 - accuracy: 0.9838 - val_loss: 0.1195 - val_accuracy: 0.9589\n",
            "Epoch 29/100\n",
            "33/33 [==============================] - ETA: 0s - loss: 0.0585 - accuracy: 0.9838\n",
            "Epoch 29: val_accuracy did not improve from 0.97326\n",
            "33/33 [==============================] - 8s 250ms/step - loss: 0.0585 - accuracy: 0.9838 - val_loss: 0.1111 - val_accuracy: 0.9675\n",
            "Epoch 30/100\n",
            "33/33 [==============================] - ETA: 0s - loss: 0.0447 - accuracy: 0.9902\n",
            "Epoch 30: val_accuracy did not improve from 0.97326\n",
            "33/33 [==============================] - 8s 249ms/step - loss: 0.0447 - accuracy: 0.9902 - val_loss: 0.1160 - val_accuracy: 0.9628\n",
            "Epoch 31/100\n",
            "33/33 [==============================] - ETA: 0s - loss: 0.0518 - accuracy: 0.9847\n",
            "Epoch 31: val_accuracy did not improve from 0.97326\n",
            "33/33 [==============================] - 8s 256ms/step - loss: 0.0518 - accuracy: 0.9847 - val_loss: 0.1163 - val_accuracy: 0.9628\n",
            "Epoch 32/100\n",
            "33/33 [==============================] - ETA: 0s - loss: 0.0668 - accuracy: 0.9840\n",
            "Epoch 32: val_accuracy did not improve from 0.97326\n",
            "33/33 [==============================] - 8s 249ms/step - loss: 0.0668 - accuracy: 0.9840 - val_loss: 0.1215 - val_accuracy: 0.9570\n",
            "Epoch 33/100\n",
            "33/33 [==============================] - ETA: 0s - loss: 0.0511 - accuracy: 0.9871\n",
            "Epoch 33: val_accuracy did not improve from 0.97326\n",
            "33/33 [==============================] - 8s 248ms/step - loss: 0.0511 - accuracy: 0.9871 - val_loss: 0.1189 - val_accuracy: 0.9589\n",
            "Epoch 34/100\n",
            "33/33 [==============================] - ETA: 0s - loss: 0.0528 - accuracy: 0.9852\n",
            "Epoch 34: val_accuracy did not improve from 0.97326\n",
            "33/33 [==============================] - 7s 212ms/step - loss: 0.0528 - accuracy: 0.9852 - val_loss: 0.1158 - val_accuracy: 0.9628\n",
            "Epoch 35/100\n",
            "33/33 [==============================] - ETA: 0s - loss: 0.0468 - accuracy: 0.9890\n",
            "Epoch 35: val_accuracy did not improve from 0.97326\n",
            "33/33 [==============================] - 8s 248ms/step - loss: 0.0468 - accuracy: 0.9890 - val_loss: 0.1166 - val_accuracy: 0.9608\n",
            "Epoch 36/100\n",
            "33/33 [==============================] - ETA: 0s - loss: 0.0431 - accuracy: 0.9892\n",
            "Epoch 36: val_accuracy did not improve from 0.97326\n",
            "33/33 [==============================] - 7s 215ms/step - loss: 0.0431 - accuracy: 0.9892 - val_loss: 0.1156 - val_accuracy: 0.9685\n",
            "Epoch 37/100\n",
            "33/33 [==============================] - ETA: 0s - loss: 0.0404 - accuracy: 0.9902\n",
            "Epoch 37: val_accuracy did not improve from 0.97326\n",
            "33/33 [==============================] - 8s 249ms/step - loss: 0.0404 - accuracy: 0.9902 - val_loss: 0.1126 - val_accuracy: 0.9647\n",
            "Epoch 38/100\n",
            "33/33 [==============================] - ETA: 0s - loss: 0.0510 - accuracy: 0.9869\n",
            "Epoch 38: val_accuracy did not improve from 0.97326\n",
            "33/33 [==============================] - 7s 214ms/step - loss: 0.0510 - accuracy: 0.9869 - val_loss: 0.1163 - val_accuracy: 0.9637\n",
            "Epoch 39/100\n",
            "33/33 [==============================] - ETA: 0s - loss: 0.0501 - accuracy: 0.9861\n",
            "Epoch 39: val_accuracy did not improve from 0.97326\n",
            "33/33 [==============================] - 8s 250ms/step - loss: 0.0501 - accuracy: 0.9861 - val_loss: 0.1157 - val_accuracy: 0.9656\n",
            "Epoch 40/100\n",
            "33/33 [==============================] - ETA: 0s - loss: 0.0500 - accuracy: 0.9888\n",
            "Epoch 40: val_accuracy did not improve from 0.97326\n",
            "33/33 [==============================] - 8s 251ms/step - loss: 0.0500 - accuracy: 0.9888 - val_loss: 0.1088 - val_accuracy: 0.9694\n",
            "Epoch 41/100\n",
            "33/33 [==============================] - ETA: 0s - loss: 0.0508 - accuracy: 0.9888\n",
            "Epoch 41: val_accuracy did not improve from 0.97326\n",
            "33/33 [==============================] - 8s 248ms/step - loss: 0.0508 - accuracy: 0.9888 - val_loss: 0.1128 - val_accuracy: 0.9628\n",
            "Epoch 42/100\n",
            "33/33 [==============================] - ETA: 0s - loss: 0.0424 - accuracy: 0.9892\n",
            "Epoch 42: val_accuracy did not improve from 0.97326\n",
            "33/33 [==============================] - 8s 249ms/step - loss: 0.0424 - accuracy: 0.9892 - val_loss: 0.1122 - val_accuracy: 0.9628\n",
            "Epoch 43/100\n",
            "33/33 [==============================] - ETA: 0s - loss: 0.0479 - accuracy: 0.9885\n",
            "Epoch 43: val_accuracy did not improve from 0.97326\n",
            "33/33 [==============================] - 8s 250ms/step - loss: 0.0479 - accuracy: 0.9885 - val_loss: 0.1210 - val_accuracy: 0.9570\n",
            "Epoch 44/100\n",
            "33/33 [==============================] - ETA: 0s - loss: 0.0515 - accuracy: 0.9861\n",
            "Epoch 44: val_accuracy did not improve from 0.97326\n",
            "33/33 [==============================] - 8s 248ms/step - loss: 0.0515 - accuracy: 0.9861 - val_loss: 0.1137 - val_accuracy: 0.9580\n"
          ]
        }
      ]
    },
    {
      "cell_type": "code",
      "source": [
        "loss, acc = model.evaluate(X_test, y_test)"
      ],
      "metadata": {
        "colab": {
          "base_uri": "https://localhost:8080/"
        },
        "id": "aNYoebWzO7wc",
        "outputId": "0400d7da-80ca-4ceb-9256-e7e3a3c15eef"
      },
      "execution_count": 15,
      "outputs": [
        {
          "output_type": "stream",
          "name": "stdout",
          "text": [
            "20/20 [==============================] - 1s 45ms/step - loss: 0.4759 - accuracy: 0.9103\n"
          ]
        }
      ]
    },
    {
      "cell_type": "code",
      "source": [
        "best_epoch = np.argmax(hist.history['val_accuracy'])\n",
        "model2 = tf.keras.models.load_model(chpt + modelName)\n",
        "\n",
        "loss, acc = model2.evaluate(X_test, y_test)"
      ],
      "metadata": {
        "colab": {
          "base_uri": "https://localhost:8080/"
        },
        "id": "gJGrDqAdg81s",
        "outputId": "5bd375e3-0444-48de-be8f-2043d16d9b45"
      },
      "execution_count": 16,
      "outputs": [
        {
          "output_type": "stream",
          "name": "stdout",
          "text": [
            "20/20 [==============================] - 1s 44ms/step - loss: 0.5022 - accuracy: 0.8942\n"
          ]
        }
      ]
    },
    {
      "cell_type": "code",
      "source": [
        "%matplotlib inline\n",
        "import matplotlib.pyplot as plt\n",
        "\n",
        "fig, loss_ax = plt.subplots()\n",
        "\n",
        "acc_ax = loss_ax.twinx()\n",
        "\n",
        "loss_ax.plot(hist.history['loss'],'y',label='train loss')\n",
        "loss_ax.plot(hist.history['val_loss'],'r',label='val loss')\n",
        "acc_ax.plot(hist.history['accuracy'],'b',label='train acc')\n",
        "acc_ax.plot(hist.history['val_accuracy'],'g',label='val acc')\n",
        "\n",
        "loss_ax.set_xlabel('epoch')\n",
        "loss_ax.set_ylabel('loss')\n",
        "acc_ax.set_ylabel('accuracy')\n",
        "\n",
        "loss_ax.legend(loc='upper left')\n",
        "acc_ax.legend(loc='lower left')\n",
        "plt.show()"
      ],
      "metadata": {
        "colab": {
          "base_uri": "https://localhost:8080/",
          "height": 280
        },
        "id": "qMxVAutFYUT7",
        "outputId": "949a0b35-f374-47ae-de63-eb5623fdc1b8"
      },
      "execution_count": null,
      "outputs": [
        {
          "output_type": "display_data",
          "data": {
            "text/plain": [
              "<Figure size 432x288 with 2 Axes>"
            ],
            "image/png": "[encoded data removed]"
          },
          "metadata": {
            "needs_background": "light"
          }
        }
      ]
    },
    {
      "cell_type": "code",
      "source": [
        "from mlxtend.plotting import plot_confusion_matrix\n",
        "from sklearn.metrics import confusion_matrix\n",
        "import matplotlib.pyplot as plt\n",
        "import numpy as np\n",
        "\n",
        "y_pred = model.predict(X_test)\n",
        "cm = confusion_matrix(y_test, np.round(y_pred))\n",
        "\n",
        "fig, ax = plot_confusion_matrix(conf_mat=cm)\n",
        "plt.show()"
      ],
      "metadata": {
        "colab": {
          "base_uri": "https://localhost:8080/",
          "height": 297
        },
        "id": "cBZOLYtSU9m9",
        "outputId": "64da8117-9e58-4937-9659-c381a465045f"
      },
      "execution_count": null,
      "outputs": [
        {
          "output_type": "stream",
          "name": "stdout",
          "text": [
            "20/20 [==============================] - 1s 36ms/step\n"
          ]
        },
        {
          "output_type": "display_data",
          "data": {
            "text/plain": [
              "<Figure size 432x288 with 1 Axes>"
            ],
            "image/png": "[encoded data removed]"
          },
          "metadata": {
            "needs_background": "light"
          }
        }
      ]
    }
  ]
}